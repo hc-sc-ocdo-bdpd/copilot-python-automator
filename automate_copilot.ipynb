{
 "cells": [
  {
   "cell_type": "code",
   "execution_count": null,
   "metadata": {},
   "outputs": [],
   "source": [
    "import copilot_automation as copilot\n",
    "\n",
    "# Main Execution\n",
    "try:\n",
    "    copilot.open_browser()\n",
    "    copilot.type_and_submit_text(\"Write a 100 line poem\")\n",
    "    copilot.wait_for_response()\n",
    "    response1 = copilot.get_copilot_response()\n",
    "    print(\"Response 1:\", response1)\n",
    "\n",
    "    copilot.create_new_chat()\n",
    "    copilot.type_and_submit_text(\"This is the second chat!\")\n",
    "    copilot.wait_for_response()\n",
    "    response2 = copilot.get_copilot_response()\n",
    "    print(\"Response 2:\", response2)\n",
    "finally:\n",
    "    copilot.close_browser()\n"
   ]
  },
  {
   "cell_type": "code",
   "execution_count": null,
   "metadata": {},
   "outputs": [],
   "source": []
  }
 ],
 "metadata": {
  "kernelspec": {
   "display_name": ".venv",
   "language": "python",
   "name": "python3"
  },
  "language_info": {
   "codemirror_mode": {
    "name": "ipython",
    "version": 3
   },
   "file_extension": ".py",
   "mimetype": "text/x-python",
   "name": "python",
   "nbconvert_exporter": "python",
   "pygments_lexer": "ipython3",
   "version": "3.10.4"
  }
 },
 "nbformat": 4,
 "nbformat_minor": 2
}
