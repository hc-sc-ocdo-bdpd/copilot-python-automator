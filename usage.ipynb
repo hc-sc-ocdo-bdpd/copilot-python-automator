{
 "cells": [
  {
   "cell_type": "markdown",
   "metadata": {},
   "source": [
    "Basic usage with csv of questions"
   ]
  },
  {
   "cell_type": "code",
   "execution_count": null,
   "metadata": {},
   "outputs": [],
   "source": [
    "import pandas as pd\n",
    "import copilot_automation as copilot\n",
    "\n",
    "# Load the CSV file with questions\n",
    "csv_file = \"questions_for_copilot.csv\"\n",
    "questions_df = pd.read_csv(csv_file)\n",
    "\n",
    "# Ensure there is a 'response' column in the DataFrame\n",
    "if 'response' not in questions_df.columns:\n",
    "    questions_df['response'] = None\n",
    "\n",
    "try:\n",
    "    # Open the browser\n",
    "    copilot.open_browser()\n",
    "    \n",
    "    # Iterate over each question and get Copilot's response\n",
    "    for index, row in questions_df.iterrows():\n",
    "        question = row['question']\n",
    "        print(f\"Processing question {index + 1}/{len(questions_df)}: {question}\")\n",
    "\n",
    "        # Skip rows that already have responses\n",
    "        if pd.notna(row['response']):\n",
    "            print(\"Response already exists. Skipping.\")\n",
    "            continue\n",
    "\n",
    "        # Start a new chat for each question\n",
    "        copilot.create_new_chat()\n",
    "\n",
    "        # Submit the question to Copilot\n",
    "        copilot.type_and_submit_text(question)\n",
    "        copilot.wait_for_response()\n",
    "        response = copilot.get_copilot_response()\n",
    "        \n",
    "        # Store the response in the DataFrame\n",
    "        questions_df.at[index, 'response'] = response\n",
    "    \n",
    "    # Save the updated DataFrame back to the CSV\n",
    "    questions_df.to_csv(csv_file, index=False)\n",
    "    print(f\"Responses saved to {csv_file}\")\n",
    "\n",
    "finally:\n",
    "    # Close the browser\n",
    "    copilot.close_browser()\n"
   ]
  },
  {
   "cell_type": "markdown",
   "metadata": {},
   "source": [
    "Basic usage with rate management and csv of questions"
   ]
  },
  {
   "cell_type": "code",
   "execution_count": null,
   "metadata": {},
   "outputs": [],
   "source": [
    "import pandas as pd\n",
    "import copilot_automation as copilot\n",
    "\n",
    "# Load the CSV file with questions\n",
    "csv_file = \"questions_for_copilot.csv\"\n",
    "output_file = \"questions_with_responses.csv\"\n",
    "questions_df = pd.read_csv(csv_file)\n",
    "\n",
    "# Ensure there is a 'response' column in the DataFrame\n",
    "if 'response' not in questions_df.columns:\n",
    "    questions_df['response'] = None\n",
    "\n",
    "try:\n",
    "    # Open the browser\n",
    "    copilot.open_browser()\n",
    "    \n",
    "    # Iterate over each question and get Copilot's response\n",
    "    for index, row in questions_df.iterrows():\n",
    "        question = row['question']\n",
    "        print(f\"Processing question {index + 1}/{len(questions_df)}: {question}\")\n",
    "\n",
    "        # Skip rows that already have responses\n",
    "        if pd.notna(row['response']):\n",
    "            print(\"Response already exists. Skipping.\")\n",
    "            continue\n",
    "\n",
    "        # Use the rate-managed query function with retries\n",
    "        response = copilot.rate_manage_query(question, delay_range=(5, 15), max_retries=3)\n",
    "        \n",
    "        # Store the response in the DataFrame\n",
    "        if response:\n",
    "            questions_df.at[index, 'response'] = response\n",
    "    \n",
    "    # Save the updated DataFrame under a new name\n",
    "    questions_df.to_csv(output_file, index=False)\n",
    "    print(f\"Responses saved to {output_file}\")\n",
    "\n",
    "finally:\n",
    "    # Close the browser\n",
    "    copilot.close_browser()\n"
   ]
  }
 ],
 "metadata": {
  "kernelspec": {
   "display_name": ".venv",
   "language": "python",
   "name": "python3"
  },
  "language_info": {
   "codemirror_mode": {
    "name": "ipython",
    "version": 3
   },
   "file_extension": ".py",
   "mimetype": "text/x-python",
   "name": "python",
   "nbconvert_exporter": "python",
   "pygments_lexer": "ipython3",
   "version": "3.10.4"
  }
 },
 "nbformat": 4,
 "nbformat_minor": 2
}
